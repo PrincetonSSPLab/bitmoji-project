{
 "cells": [
  {
   "cell_type": "code",
   "execution_count": null,
   "metadata": {},
   "outputs": [],
   "source": [
    "import cv2\n",
    "import os\n",
    "import json"
   ]
  },
  {
   "cell_type": "code",
   "execution_count": null,
   "metadata": {},
   "outputs": [],
   "source": [
    "data_dir = \"../data\"\n",
    "test1 = os.path.join(data_dir, \"test-1\")\n",
    "test2 = os.path.join(data_dir, \"test-2\")"
   ]
  },
  {
   "cell_type": "code",
   "execution_count": null,
   "metadata": {},
   "outputs": [],
   "source": [
    "def get_all_files(path):\n",
    "    return os.listdir(path)"
   ]
  },
  {
   "cell_type": "code",
   "execution_count": null,
   "metadata": {},
   "outputs": [],
   "source": [
    "def seperate_images_and_json(list_of_files):\n",
    "    image_file_names = []\n",
    "    json_file_names = []\n",
    "    for file in list_of_files:\n",
    "        cleaned = file.lower()\n",
    "        name, ext = os.path.splitext(cleaned)\n",
    "        if ext in [\".jpg\", \".jpeg\", \".png\"]:\n",
    "            image_file_names.append(file)\n",
    "        elif ext in [\".json\"]:\n",
    "            json_file_names.append(file)\n",
    "            \n",
    "    return image_file_names, json_file_names"
   ]
  },
  {
   "cell_type": "code",
   "execution_count": null,
   "metadata": {},
   "outputs": [],
   "source": [
    "def load_image(path):\n",
    "    return cv2.imread(path)"
   ]
  },
  {
   "cell_type": "code",
   "execution_count": null,
   "metadata": {},
   "outputs": [],
   "source": [
    "def crop_image(image, x, y, width, height):\n",
    "    return image[y:y+width, x:x+height]"
   ]
  },
  {
   "cell_type": "code",
   "execution_count": null,
   "metadata": {},
   "outputs": [],
   "source": [
    "def get_bounding_box_coordinates(attributes):\n",
    "    x = attributes[\"x\"]\n",
    "    y = attributes[\"y\"]\n",
    "    width = attributes[\"width\"]\n",
    "    height = attributes[\"height\"]\n",
    "    \n",
    "    return x, y, width, height"
   ]
  },
  {
   "cell_type": "code",
   "execution_count": null,
   "metadata": {},
   "outputs": [],
   "source": [
    "def save_sub_image(output_directory, image, image_name, image_type, unique_id):\n",
    "    output_name = \"{}({})-{}.jpg\".format(image_name, image_type, unique_id)\n",
    "    output_path = os.path.join(output_directory, output_name)\n",
    "    cv2.imwrite(output_path, image)"
   ]
  },
  {
   "cell_type": "code",
   "execution_count": null,
   "metadata": {
    "scrolled": false
   },
   "outputs": [],
   "source": [
    "image_names, json_names = seperate_images_and_json(get_all_files(test1))"
   ]
  },
  {
   "cell_type": "code",
   "execution_count": null,
   "metadata": {},
   "outputs": [],
   "source": [
    "with open(os.path.join(test1, json_names[0]), \"r\") as file:\n",
    "    json_data = json.load(file)"
   ]
  },
  {
   "cell_type": "code",
   "execution_count": null,
   "metadata": {
    "scrolled": false
   },
   "outputs": [],
   "source": [
    "for image_file in json_data[\"_via_img_metadata\"]:\n",
    "    image_data = json_data[\"_via_img_metadata\"][image_file]\n",
    "    shapes = image_data[\"regions\"]\n",
    "    image_file_path = os.path.join(test1, image_data[\"filename\"])\n",
    "    img = load_image(image_file_path) \n",
    "    for id_number, shape in enumerate(shapes):\n",
    "        x, y, height, width = get_bounding_box_coordinates(shape['shape_attributes'])\n",
    "        cropped_item = crop_image(img, x, y, width, height)\n",
    "        print(shape[\"region_attributes\"])\n",
    "        file_name = os.path.splitext(image_data[\"filename\"])[0]\n",
    "        try:\n",
    "            region_type = file_name, shape[\"region_attributes\"][\"type\"]\n",
    "        except:\n",
    "            region_type = \"AHHHHHHHHHHHHHHHHHHHHHHHHHHHHH\"\n",
    "        save_sub_image(\"../output\", cropped_item, file_name, region_type, id_number)\n",
    "        "
   ]
  },
  {
   "cell_type": "code",
   "execution_count": null,
   "metadata": {},
   "outputs": [],
   "source": [
    "json_data[\"_via_img_metadata\"][\"user2780_3396.jpg97772\"]"
   ]
  }
 ],
 "metadata": {
  "kernelspec": {
   "display_name": "Python 3 (ipykernel)",
   "language": "python",
   "name": "python3"
  },
  "language_info": {
   "codemirror_mode": {
    "name": "ipython",
    "version": 3
   },
   "file_extension": ".py",
   "mimetype": "text/x-python",
   "name": "python",
   "nbconvert_exporter": "python",
   "pygments_lexer": "ipython3",
   "version": "3.9.12"
  }
 },
 "nbformat": 4,
 "nbformat_minor": 4
}
