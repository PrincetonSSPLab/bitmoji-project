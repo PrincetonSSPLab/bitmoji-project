{
 "cells": [
  {
   "cell_type": "code",
   "execution_count": null,
   "metadata": {},
   "outputs": [],
   "source": [
    "import cv2\n",
    "import csv\n",
    "import os\n",
    "import json\n",
    "import random\n",
    "import shutil\n",
    "from collections import defaultdict"
   ]
  },
  {
   "cell_type": "code",
   "execution_count": null,
   "metadata": {},
   "outputs": [],
   "source": [
    "def load_image(path):\n",
    "    \"\"\"\n",
    "    Loads an image into memory as cv2 image object.\n",
    "    \n",
    "    :param path: String of path to image.\n",
    "    :return: cv2 object of image.\n",
    "    \"\"\"\n",
    "    return cv2.imread(path)"
   ]
  },
  {
   "cell_type": "code",
   "execution_count": null,
   "metadata": {},
   "outputs": [],
   "source": [
    "def save_image(image, output_directory, filename):\n",
    "    \"\"\"\n",
    "    Saves an image.\n",
    "    \n",
    "    :param image: The image to save.\n",
    "    :param output_path: The directory to write the file to. \n",
    "    :param filename: The filename of the output image.\n",
    "    \"\"\"\n",
    "    path = os.path.join(output_directory, filename)\n",
    "    cv2.imwrite(path, image)"
   ]
  },
  {
   "cell_type": "code",
   "execution_count": null,
   "metadata": {},
   "outputs": [],
   "source": [
    "def crop_image(image, x, y, width, height):\n",
    "    \"\"\"\n",
    "    Crops an image to a rectangle.\n",
    "    \n",
    "    :param x: The x-coordinate of the bounding box to crop.\n",
    "    :param y: The y-coordinate of the bounding box to crop.\n",
    "    :param width: The width of the box to crop.\n",
    "    :param height: The height of the box to crop.\n",
    "    :return: The cropped image.\n",
    "    \"\"\"\n",
    "    return image[y:y+height, x:x+width]"
   ]
  },
  {
   "cell_type": "code",
   "execution_count": null,
   "metadata": {},
   "outputs": [],
   "source": [
    "def load_json(json_file_path):\n",
    "    \"\"\"\n",
    "    Loads a json file\n",
    "    \n",
    "    :param via_json_file_path: The path to the json file.\n",
    "    :return: The loaded json file object.\n",
    "    \"\"\"\n",
    "    with open(json_file_path) as file:\n",
    "        return json.load(file)"
   ]
  },
  {
   "cell_type": "code",
   "execution_count": null,
   "metadata": {},
   "outputs": [],
   "source": [
    "def get_filename_and_regions_from_via_json(via_json_file_path):\n",
    "    \"\"\"\n",
    "    Parses the output via json to get a dictionary where they key is the filename and the value is an array of\n",
    "    json objects that describe the the regions to crop.\n",
    "    \n",
    "    :param via_json_file_path: The path to the via json file. \n",
    "    :return: A dictionary where the keys are the filenames and the values are the regions associated with the file.\n",
    "    \"\"\"\n",
    "    json = load_json(via_json_file_path)\n",
    "    image_data_info = json[\"_via_img_metadata\"]\n",
    "    return {image_data_info[entry][\"filename\"]: image_data_info[entry][\"regions\"] for entry in image_data_info}"
   ]
  },
  {
   "cell_type": "code",
   "execution_count": null,
   "metadata": {},
   "outputs": [],
   "source": [
    "def get_shape(region):\n",
    "    \"\"\"\n",
    "    Takes in a region and gets the shape\n",
    "    \n",
    "    :param region: The region to get the shape of.\n",
    "    :return: The shape of the region.\n",
    "    \"\"\"\n",
    "    return region[\"shape_attributes\"][\"name\"]\n",
    "    "
   ]
  },
  {
   "cell_type": "code",
   "execution_count": null,
   "metadata": {},
   "outputs": [],
   "source": [
    "def get_rect_bbox(region):\n",
    "    \"\"\"\n",
    "    Gets the bounding box of a region.\n",
    "    \n",
    "    :param region: The region to get the bounding box of.\n",
    "    :return: List in the form [x, y, width, height] defining a rectangle.\n",
    "    \"\"\"\n",
    "    shape_attributes = region[\"shape_attributes\"]\n",
    "    if get_shape(region) == \"rect\":\n",
    "        bbox = [shape_attributes[\"x\"], \n",
    "                shape_attributes[\"y\"], \n",
    "                shape_attributes[\"width\"], \n",
    "                shape_attributes[\"height\"]]\n",
    "        \n",
    "        # doing it this way instead of using min in case have to find\n",
    "        # these small mistakes later.\n",
    "        for i, val in enumerate(bbox):\n",
    "            if val < 0:\n",
    "                bbox[i] = 0\n",
    "        \n",
    "        return bbox\n",
    "    else:\n",
    "        return None"
   ]
  },
  {
   "cell_type": "code",
   "execution_count": null,
   "metadata": {},
   "outputs": [],
   "source": [
    "def get_region_type(region):\n",
    "    \"\"\"\n",
    "    Gets the type of the region.\n",
    "    \n",
    "    :param region: The region to get the type of.\n",
    "    :return: The type of the region.\n",
    "    \"\"\"\n",
    "    if \"type\" in region[\"region_attributes\"]:\n",
    "        region_type = region[\"region_attributes\"][\"type\"]\n",
    "        if type(region_type) == type(dict()):\n",
    "            for key, value in region_type.items():\n",
    "                if value:\n",
    "                    return key\n",
    "        else:\n",
    "            return region_type\n",
    "    else:\n",
    "        return None"
   ]
  },
  {
   "cell_type": "code",
   "execution_count": null,
   "metadata": {},
   "outputs": [],
   "source": [
    "def create_directory_name_from_filename(filename):\n",
    "    \"\"\"\n",
    "    Creates a directory name from a filename.\n",
    "    \n",
    "    :param filename: The name of the file to use to create a directory name from.\n",
    "    :return: Directory name.\n",
    "    \"\"\"\n",
    "    return filename.split(\".\")[0]"
   ]
  },
  {
   "cell_type": "code",
   "execution_count": null,
   "metadata": {},
   "outputs": [],
   "source": [
    "def create_directory(path, directory_name):\n",
    "    \"\"\"\n",
    "    Creates a directory if it doesn't already exist\n",
    "    \n",
    "    :param path: The folder the directory will be made in.\n",
    "    :param directory_name: The name of the directory to make.\n",
    "    :return: The filepath to the directory.\n",
    "    \"\"\"\n",
    "    cleaned_directory_name = clean_directory_name(directory_name)\n",
    "    full_path = os.path.join(path, cleaned_directory_name)\n",
    "    if not os.path.exists(full_path):\n",
    "        os.makedirs(full_path)\n",
    "    \n",
    "    return full_path\n",
    "    "
   ]
  },
  {
   "cell_type": "code",
   "execution_count": null,
   "metadata": {},
   "outputs": [],
   "source": [
    "def clean_directory_name(directory_name):\n",
    "    \"\"\"\n",
    "    Cleans a directory name.\n",
    "    \n",
    "    :param directory_name: The directory output name.\n",
    "    :return: The cleaned string.\n",
    "    \"\"\"\n",
    "    cleaned = directory_name.replace(\"/\", \"-\")\n",
    "    cleaned = cleaned.replace(\" \", \"-\")\n",
    "    cleaned = cleaned.lower()\n",
    "    return cleaned"
   ]
  },
  {
   "cell_type": "code",
   "execution_count": null,
   "metadata": {},
   "outputs": [],
   "source": [
    "def main(via_json_path, image_directory, output_directory, file_name_regions_dict):\n",
    "    \"\"\"\n",
    "    Main entry point for the program.\n",
    "    \n",
    "    :param via_json_path: The path to the json file that describes the regions in the images.\n",
    "    :param image_directory: Directory path which contains the images the json file describes.\n",
    "    :param output_directory: The path to the output directory to write all the data to.\n",
    "    :param file_name_regions_dict: A dictionary where the keys are the filenames and the values are a list of regions.\n",
    "    \"\"\"\n",
    "    for filename, regions in file_name_regions_dict.items():\n",
    "        image = load_image(os.path.join(image_directory, filename))\n",
    "        if image is None:\n",
    "            print(\"file {} could not be found\".format(filename))\n",
    "            continue\n",
    "            \n",
    "        current_file_output_directory = create_directory(output_directory, create_directory_name_from_filename(filename))\n",
    "        for i, region in enumerate(regions):\n",
    "            bbox = get_rect_bbox(region)\n",
    "            region_type = get_region_type(region)\n",
    "            if region_type is None:\n",
    "                print(\"file {} had an uncategorized box\".format(filename))\n",
    "                region_type = \"uncategorized\"\n",
    "                \n",
    "            cropped_image = crop_image(image, *bbox)\n",
    "            region_type_output_directory = create_directory(current_file_output_directory, region_type)\n",
    "            save_image(cropped_image, region_type_output_directory, \"{}.jpg\".format(i))"
   ]
  },
  {
   "cell_type": "code",
   "execution_count": null,
   "metadata": {},
   "outputs": [],
   "source": [
    "def find_bad_files(via_json_path, image_directory, file_name_regions_dict, bad_categories_set=None):\n",
    "    \"\"\"\n",
    "    Collects the file names of all files with problems with tagging. \n",
    "    \n",
    "    :param via_json_path: The path to the json file that describes the regions in the images.\n",
    "    :param image_directory: Directory path which contains the images the json file describes.\n",
    "    :param file_name_regions_dict: A dictionary where the keys are the filenames and the values are a list of regions.\n",
    "    :param bad_categories_set: Set of categories that contain bad files\n",
    "    :return: A 2D list of files with tagging problems and the reason why they are bad.\n",
    "    \"\"\"\n",
    "    bad_files = []\n",
    "    for filename, regions in file_name_regions_dict.items():\n",
    "        if not os.path.exists(os.path.join(image_directory, filename)):\n",
    "            print(\"file {} could not be found\".format(filename))\n",
    "            continue\n",
    "\n",
    "        for i, region in enumerate(regions):\n",
    "            region_type = get_region_type(region)\n",
    "            if region_type is None:\n",
    "                bad_files.append([filename, \"contains uncategorized region\"])\n",
    "            elif bad_categories_set is not None:\n",
    "                cleaned_region_name = clean_directory_name(region_type)\n",
    "                if cleaned_region_name in bad_categories_set: \n",
    "                    bad_files.append([filename, f\"contains region named {region_type}\"])\n",
    "                \n",
    "    return bad_files"
   ]
  },
  {
   "cell_type": "code",
   "execution_count": null,
   "metadata": {},
   "outputs": [],
   "source": [
    "def collect_files_by_category(base_directory):\n",
    "    \"\"\"\n",
    "    Collects the path to each file from each category.\n",
    "    \n",
    "    :param base_directory: Directory to collect from.\n",
    "    \"\"\"\n",
    "    classifications = defaultdict(list)\n",
    "    list_subfolders_with_paths = [f.path for f in os.scandir(base_directory) if f.is_dir()]\n",
    "    for path in list_subfolders_with_paths:\n",
    "        sub_classes = [f.name for f in os.scandir(path) if f.is_dir()]\n",
    "        for sub_class in sub_classes:\n",
    "            current_dir = os.path.join(path, sub_class)\n",
    "            list_of_images = os.listdir(current_dir)\n",
    "            for image in list_of_images:\n",
    "                output = os.path.join(current_dir, image)\n",
    "                classifications[sub_class].append(output)\n",
    "                \n",
    "    return classifications"
   ]
  },
  {
   "cell_type": "code",
   "execution_count": null,
   "metadata": {},
   "outputs": [],
   "source": [
    "def get_category_count(base_directory):\n",
    "    \"\"\"\n",
    "    Finds the number of files for each category.\n",
    "    \n",
    "    :param base_directory: Path to the base directory to count the number of each class of files.\n",
    "    \"\"\"\n",
    "    categorized_files = collect_files_by_category(base_directory)\n",
    "    counts = defaultdict(int)\n",
    "    for key, value in categorized_files.items():\n",
    "        counts[key] = len(value)\n",
    "    \n",
    "    return counts"
   ]
  },
  {
   "cell_type": "code",
   "execution_count": null,
   "metadata": {},
   "outputs": [],
   "source": [
    "def random_sample(base_directory, no_samples):\n",
    "    \"\"\"\n",
    "    Randomly samples data from each category.\n",
    "    \n",
    "    :param base_directory: Directory to collect from.\n",
    "    :param no_samples: The number of samples to take from each category\n",
    "    \"\"\"\n",
    "    files_by_category = collect_files_by_category(base_directory)\n",
    "    output = {}\n",
    "    for key, value in files_by_category.items():\n",
    "        max_samples = min(len(value), no_samples)\n",
    "        sample = random.sample(value, max_samples)\n",
    "        output[key] = sample\n",
    "        \n",
    "    return output"
   ]
  },
  {
   "cell_type": "code",
   "execution_count": null,
   "metadata": {},
   "outputs": [],
   "source": [
    "def collect_subset_of_files(output_dir, category_files_dict):\n",
    "    \"\"\"\n",
    "    Copies a subset of files from each category to an output directory.\n",
    "    \n",
    "    :param output_dir: The directory to write the output files to.\n",
    "    :param category_files_dict: Dictionary where the keys are the classes of the files and the\n",
    "    value is a list of filepaths.\n",
    "    \"\"\"\n",
    "    for key, value in category_files_dict.items():\n",
    "        region_type_output_directory = create_directory(output_dir, key)\n",
    "        for i, image_path in enumerate(value):\n",
    "            image_name = f\"{i}.jpg\"\n",
    "            output_path = os.path.join(region_type_output_directory, image_name)\n",
    "            shutil.copy(image_path, output_path)"
   ]
  },
  {
   "cell_type": "code",
   "execution_count": null,
   "metadata": {},
   "outputs": [],
   "source": [
    "IMAGE_DIRECTORY = r\"C:\\Users\\Ethan\\Desktop\\repos\\princeton-bitmoji-project-new\\data\\confirmed-yes-2-15-2022\"\n",
    "VIA_JSON_PATH = r\"C:\\Users\\Ethan\\Desktop\\repos\\princeton-bitmoji-project-new\\data\\All Annotations Feb 20 2022.json\"\n",
    "OUTPUT_DIRECTORY = r\"C:\\Users\\Ethan\\Desktop\\repos\\princeton-bitmoji-project-new\\output\\all-annotations-feb-20-2022\"\n",
    "SAMPLE_OUTPUT_DIRECTORY = r\"C:\\Users\\Ethan\\Desktop\\repos\\princeton-bitmoji-project-new\\output\\examples\""
   ]
  },
  {
   "cell_type": "code",
   "execution_count": null,
   "metadata": {},
   "outputs": [],
   "source": [
    "file_name_regions_dict = get_filename_and_regions_from_via_json(VIA_JSON_PATH)"
   ]
  },
  {
   "cell_type": "code",
   "execution_count": null,
   "metadata": {},
   "outputs": [],
   "source": [
    "bad_categories = set([\"teacher-outfir\", \"other\", \"poster--wall-hanging\"])\n",
    "bad_files = find_bad_files(VIA_JSON_PATH, IMAGE_DIRECTORY, file_name_regions_dict, bad_categories)\n",
    "with open(\"bad_files.csv\", \"w\", newline=\"\") as file:\n",
    "    headers = [\"file-name\", \"reason\"]\n",
    "    writer = csv.writer(file)\n",
    "    writer.writerow(headers)\n",
    "    writer.writerows(bad_files)"
   ]
  },
  {
   "cell_type": "code",
   "execution_count": null,
   "metadata": {},
   "outputs": [],
   "source": [
    "random.seed(2)"
   ]
  },
  {
   "cell_type": "code",
   "execution_count": null,
   "metadata": {
    "scrolled": true
   },
   "outputs": [],
   "source": [
    "# main(VIA_JSON_PATH, IMAGE_DIRECTORY, OUTPUT_DIRECTORY, file_name_regions_dict)\n",
    "# sample = random_sample(OUTPUT_DIRECTORY, 10)\n",
    "# collect_subset_of_files(SAMPLE_OUTPUT_DIRECTORY, sample)\n",
    "get_category_count(OUTPUT_DIRECTORY)"
   ]
  }
 ],
 "metadata": {
  "kernelspec": {
   "display_name": "Python 3.9.12 ('base')",
   "language": "python",
   "name": "python3"
  },
  "language_info": {
   "codemirror_mode": {
    "name": "ipython",
    "version": 3
   },
   "file_extension": ".py",
   "mimetype": "text/x-python",
   "name": "python",
   "nbconvert_exporter": "python",
   "pygments_lexer": "ipython3",
   "version": "3.9.12"
  },
  "vscode": {
   "interpreter": {
    "hash": "58ed313190bb0b7e91dd2f9a464e3216ab686140ac15e04fa2e2836f55fda08a"
   }
  }
 },
 "nbformat": 4,
 "nbformat_minor": 4
}
