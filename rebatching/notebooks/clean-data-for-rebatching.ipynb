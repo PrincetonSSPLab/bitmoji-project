{
 "cells": [
  {
   "cell_type": "markdown",
   "metadata": {},
   "source": [
    "## Data Cleaning For Rebatching\n",
    "\n"
   ]
  },
  {
   "cell_type": "code",
   "execution_count": null,
   "metadata": {},
   "outputs": [],
   "source": [
    "import os\n",
    "import json"
   ]
  },
  {
   "cell_type": "code",
   "execution_count": null,
   "metadata": {},
   "outputs": [],
   "source": [
    "data_path = \"../Books\"\n",
    "ra_dirs = os.listdir(data_path)\n",
    "ra_batches = {}\n",
    "for ra_dir in ra_dirs:\n",
    "    ra_path = os.path.join(data_path, ra_dir)\n",
    "    \n",
    "    # only allow directories\n",
    "    ra_batch = []\n",
    "    for batch in os.listdir(ra_path):\n",
    "        batch_path = os.path.join(ra_path, batch)\n",
    "        if os.path.isdir(batch_path):\n",
    "            ra_batch.append(batch_path)\n",
    "    ra_batches[ra_dir] = ra_batch"
   ]
  },
  {
   "cell_type": "code",
   "execution_count": null,
   "metadata": {},
   "outputs": [],
   "source": [
    "coded_json_files = {}\n",
    "for ra, batches in ra_batches.items():\n",
    "    batch_json_files = {}\n",
    "    for batch in batches:\n",
    "        batch_files = os.listdir(batch)\n",
    "        json_files = [os.path.join(batch, file) for file in batch_files if file.endswith(\".json\")]\n",
    "        batch_json_files[batch] = json_files\n",
    "\n",
    "    coded_json_files[ra] = batch_json_files"
   ]
  },
  {
   "cell_type": "code",
   "execution_count": null,
   "metadata": {},
   "outputs": [],
   "source": [
    "coded_json_files"
   ]
  },
  {
   "cell_type": "code",
   "execution_count": null,
   "metadata": {},
   "outputs": [],
   "source": [
    "# def concatenate_via_json_files(json_files: list) -> dict:\n",
    "#     json_data = []\n",
    "#     for json_file in json_files:\n",
    "#         with open(json_file, \"r\") as f:\n",
    "#             json_data.append(json.load(f))\n",
    "#     return json_data"
   ]
  }
 ],
 "metadata": {
  "kernelspec": {
   "display_name": "Python 3.9.12 ('base')",
   "language": "python",
   "name": "python3"
  },
  "language_info": {
   "codemirror_mode": {
    "name": "ipython",
    "version": 3
   },
   "file_extension": ".py",
   "mimetype": "text/x-python",
   "name": "python",
   "nbconvert_exporter": "python",
   "pygments_lexer": "ipython3",
   "version": "3.9.12"
  },
  "orig_nbformat": 4,
  "vscode": {
   "interpreter": {
    "hash": "58ed313190bb0b7e91dd2f9a464e3216ab686140ac15e04fa2e2836f55fda08a"
   }
  }
 },
 "nbformat": 4,
 "nbformat_minor": 2
}
