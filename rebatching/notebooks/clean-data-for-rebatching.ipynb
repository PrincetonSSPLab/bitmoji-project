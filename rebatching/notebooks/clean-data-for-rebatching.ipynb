{
 "cells": [
  {
   "cell_type": "markdown",
   "metadata": {},
   "source": [
    "## Data Preparation For Rebatching\n",
    "\n"
   ]
  },
  {
   "cell_type": "code",
   "execution_count": null,
   "metadata": {},
   "outputs": [],
   "source": [
    "import os\n",
    "import json\n",
    "import pandas as pd "
   ]
  },
  {
   "cell_type": "code",
   "execution_count": null,
   "metadata": {},
   "outputs": [],
   "source": [
    "data_path = '../coded-books/'"
   ]
  },
  {
   "cell_type": "code",
   "execution_count": null,
   "metadata": {},
   "outputs": [],
   "source": [
    "def construct_batches_dataframe(data_path):\n",
    "    \"\"\"Constructs a dataframe of batches from the data in the given path.\n",
    "    \n",
    "    Parameters\n",
    "    ----------\n",
    "    data_path : str\n",
    "        The path to the data.\n",
    "    \n",
    "    Returns\n",
    "    -------\n",
    "    pandas.DataFrame\n",
    "        A dataframe of batches. Each row represents a batch. The columns are:\n",
    "        - ra: The RA who coded the batch.\n",
    "        - batch: The name of the batch.\n",
    "        - batch_path: The path to the directory containing the images for the batch.\n",
    "        - via_json_path: The path to the VIA JSON file for the batch.\n",
    "    \"\"\"\n",
    "    batches = []\n",
    "    for ra in os.listdir(data_path):\n",
    "        ra_path = os.path.join(data_path, ra)\n",
    "        for batch in os.listdir(ra_path):\n",
    "            batch_path = os.path.join(ra_path, batch)\n",
    "            json_files = [f for f in os.listdir(batch_path) if f.endswith('.json')]\n",
    "            if len(json_files) != 1:\n",
    "                print(f'Found {len(json_files)} JSON files in \"{batch_path}\". Skipping.')\n",
    "                continue\n",
    "            via_json_path = os.path.join(batch_path, json_files[0])\n",
    "            batches.append({\n",
    "                'ra': ra,\n",
    "                'batch': batch,\n",
    "                'batch_path': batch_path,\n",
    "                'via_json_path': via_json_path\n",
    "            })\n",
    "\n",
    "    return pd.DataFrame(batches)"
   ]
  },
  {
   "cell_type": "code",
   "execution_count": null,
   "metadata": {},
   "outputs": [],
   "source": [
    "batches_df = construct_batches_dataframe(data_path)"
   ]
  }
 ],
 "metadata": {
  "kernelspec": {
   "display_name": "Python 3.9.12 ('base')",
   "language": "python",
   "name": "python3"
  },
  "language_info": {
   "codemirror_mode": {
    "name": "ipython",
    "version": 3
   },
   "file_extension": ".py",
   "mimetype": "text/x-python",
   "name": "python",
   "nbconvert_exporter": "python",
   "pygments_lexer": "ipython3",
   "version": "3.9.12"
  },
  "orig_nbformat": 4,
  "vscode": {
   "interpreter": {
    "hash": "58ed313190bb0b7e91dd2f9a464e3216ab686140ac15e04fa2e2836f55fda08a"
   }
  }
 },
 "nbformat": 4,
 "nbformat_minor": 2
}
