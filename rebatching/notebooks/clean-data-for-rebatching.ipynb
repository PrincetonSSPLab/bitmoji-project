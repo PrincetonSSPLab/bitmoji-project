{
 "cells": [
  {
   "cell_type": "markdown",
   "metadata": {},
   "source": [
    "## Data Cleaning For Rebatching\n",
    "\n"
   ]
  },
  {
   "cell_type": "code",
   "execution_count": 19,
   "metadata": {},
   "outputs": [],
   "source": [
    "import os\n",
    "import json"
   ]
  },
  {
   "cell_type": "code",
   "execution_count": 20,
   "metadata": {},
   "outputs": [],
   "source": [
    "data_path = \"../Books\"\n",
    "ra_dirs = os.listdir(data_path)\n",
    "ra_batches = {}\n",
    "for ra_dir in ra_dirs:\n",
    "    ra_path = os.path.join(data_path, ra_dir)\n",
    "    \n",
    "    # only allow directories\n",
    "    ra_batch = []\n",
    "    for batch in os.listdir(ra_path):\n",
    "        batch_path = os.path.join(ra_path, batch)\n",
    "        if os.path.isdir(batch_path):\n",
    "            ra_batch.append(batch_path)\n",
    "    ra_batches[ra_dir] = ra_batch"
   ]
  },
  {
   "cell_type": "code",
   "execution_count": 22,
   "metadata": {},
   "outputs": [],
   "source": [
    "coded_json_files = {}\n",
    "for ra, batches in ra_batches.items():\n",
    "    batch_json_files = {}\n",
    "    for batch in batches:\n",
    "        batch_files = os.listdir(batch)\n",
    "        json_files = [os.path.join(batch, file) for file in batch_files if file.endswith(\".json\")]\n",
    "        batch_json_files[batch] = json_files\n",
    "\n",
    "    coded_json_files[ra] = batch_json_files"
   ]
  },
  {
   "cell_type": "code",
   "execution_count": 23,
   "metadata": {},
   "outputs": [
    {
     "data": {
      "text/plain": [
       "{'Emily': {'../Books\\\\Emily\\\\Batch 1 training set': ['../Books\\\\Emily\\\\Batch 1 training set\\\\Emily user 1433-2281 (8).json'],\n",
       "  '../Books\\\\Emily\\\\Batch 10': ['../Books\\\\Emily\\\\Batch 10\\\\Emily user 9-2962.json'],\n",
       "  '../Books\\\\Emily\\\\Batch 23': ['../Books\\\\Emily\\\\Batch 23\\\\Emily user 50-2995.json'],\n",
       "  '../Books\\\\Emily\\\\Batch 24': ['../Books\\\\Emily\\\\Batch 24\\\\Emily user 9-2962.json'],\n",
       "  '../Books\\\\Emily\\\\Batch 25': ['../Books\\\\Emily\\\\Batch 25\\\\Emily user 9-2962.json'],\n",
       "  '../Books\\\\Emily\\\\Batch 2a training set': ['../Books\\\\Emily\\\\Batch 2a training set\\\\Emily user42-2971 (2).json'],\n",
       "  '../Books\\\\Emily\\\\Batch 34': ['../Books\\\\Emily\\\\Batch 34\\\\Emily user 9-2990.json'],\n",
       "  '../Books\\\\Emily\\\\Batch 3b training set': ['../Books\\\\Emily\\\\Batch 3b training set\\\\Emily user46-2995.json'],\n",
       "  '../Books\\\\Emily\\\\Batch 4a training set': ['../Books\\\\Emily\\\\Batch 4a training set\\\\Emily user 50-2999.json'],\n",
       "  '../Books\\\\Emily\\\\Batch 8': ['../Books\\\\Emily\\\\Batch 8\\\\Emily user 10-2990.json'],\n",
       "  '../Books\\\\Emily\\\\Batch 9': ['../Books\\\\Emily\\\\Batch 9\\\\Emily user42-2980.json']},\n",
       " 'Michelle': {'../Books\\\\Michelle\\\\Batch 1 training set': [],\n",
       "  '../Books\\\\Michelle\\\\Batch 11': ['../Books\\\\Michelle\\\\Batch 11\\\\blank_project_template (1).json'],\n",
       "  '../Books\\\\Michelle\\\\Batch 12': ['../Books\\\\Michelle\\\\Batch 12\\\\blank_project_template (1).json'],\n",
       "  '../Books\\\\Michelle\\\\Batch 2a training set': ['../Books\\\\Michelle\\\\Batch 2a training set\\\\blank_project_template (1).json'],\n",
       "  '../Books\\\\Michelle\\\\Batch 3a training set': ['../Books\\\\Michelle\\\\Batch 3a training set\\\\blank_project_template (1).json'],\n",
       "  '../Books\\\\Michelle\\\\Batch 4a training set': ['../Books\\\\Michelle\\\\Batch 4a training set\\\\blank_project_template (1).json']},\n",
       " 'Nicole Stern': {'../Books\\\\Nicole Stern\\\\Batch 1 training set': ['../Books\\\\Nicole Stern\\\\Batch 1 training set\\\\NicoleSte 10_17 user 1433-2281.json',\n",
       "   '../Books\\\\Nicole Stern\\\\Batch 1 training set\\\\OLD NicoleSte user 1433-2281.json'],\n",
       "  '../Books\\\\Nicole Stern\\\\Batch 20': ['../Books\\\\Nicole Stern\\\\Batch 20\\\\Nicole Ste user 9-2977.json'],\n",
       "  '../Books\\\\Nicole Stern\\\\Batch 21': ['../Books\\\\Nicole Stern\\\\Batch 21\\\\Nicole Ste user11 - 2971.json'],\n",
       "  '../Books\\\\Nicole Stern\\\\Batch 22': ['../Books\\\\Nicole Stern\\\\Batch 22\\\\Nicole Ste user10-2962.json'],\n",
       "  '../Books\\\\Nicole Stern\\\\Batch 2b training set': ['../Books\\\\Nicole Stern\\\\Batch 2b training set\\\\Nicole Ste user 42-2958 (1).json'],\n",
       "  '../Books\\\\Nicole Stern\\\\Batch 35': ['../Books\\\\Nicole Stern\\\\Batch 35\\\\Nicole Ste user21-2995.json'],\n",
       "  '../Books\\\\Nicole Stern\\\\Batch 37': ['../Books\\\\Nicole Stern\\\\Batch 37\\\\Nicole Ste user175-2962.json'],\n",
       "  '../Books\\\\Nicole Stern\\\\Batch 3a training set': ['../Books\\\\Nicole Stern\\\\Batch 3a training set\\\\Nicole Ste user 11-2980 (1).json'],\n",
       "  '../Books\\\\Nicole Stern\\\\Batch 4b training set': ['../Books\\\\Nicole Stern\\\\Batch 4b training set\\\\Nicole Ste user 10-2971 10_31.json'],\n",
       "  '../Books\\\\Nicole Stern\\\\Batch 5 training set': ['../Books\\\\Nicole Stern\\\\Batch 5 training set\\\\Nicole Ste user 11-2971 Fixed.json']},\n",
       " 'Sabrina': {'../Books\\\\Sabrina\\\\Batch 1 training set': ['../Books\\\\Sabrina\\\\Batch 1 training set\\\\SalamSabrinaComplete.json'],\n",
       "  '../Books\\\\Sabrina\\\\Batch 17': ['../Books\\\\Sabrina\\\\Batch 17\\\\salamsabrina1540_3717.json',\n",
       "   '../Books\\\\Sabrina\\\\Batch 17\\\\salamsabrina2990_192.json'],\n",
       "  '../Books\\\\Sabrina\\\\Batch 18': ['../Books\\\\Sabrina\\\\Batch 18\\\\salamsabrina2958_156.json'],\n",
       "  '../Books\\\\Sabrina\\\\Batch 19': ['../Books\\\\Sabrina\\\\Batch 19\\\\salamsabrina2980_179.json',\n",
       "   '../Books\\\\Sabrina\\\\Batch 19\\\\salamsabrina2990_192.json'],\n",
       "  '../Books\\\\Sabrina\\\\Batch 2b training set': ['../Books\\\\Sabrina\\\\Batch 2b training set\\\\salamsabrina42_4681 to 2958_156.json',\n",
       "   '../Books\\\\Sabrina\\\\Batch 2b training set\\\\salamsabrina42_4681to2958_156.json'],\n",
       "  '../Books\\\\Sabrina\\\\Batch 32': ['../Books\\\\Sabrina\\\\Batch 32\\\\salamsabrina2962_955.json'],\n",
       "  '../Books\\\\Sabrina\\\\Batch 33': ['../Books\\\\Sabrina\\\\Batch 33\\\\salamsabrina2995_203.json'],\n",
       "  '../Books\\\\Sabrina\\\\Batch 3b training set': ['../Books\\\\Sabrina\\\\Batch 3b training set\\\\SalamSabrina46_244to2995_203.json',\n",
       "   '../Books\\\\Sabrina\\\\Batch 3b training set\\\\SalamSabrina46_244to2995_20310_24.json'],\n",
       "  '../Books\\\\Sabrina\\\\Batch 4b training set': ['../Books\\\\Sabrina\\\\Batch 4b training set\\\\1SalamSabrina4b2971_162.json'],\n",
       "  '../Books\\\\Sabrina\\\\Batch 5 training set': ['../Books\\\\Sabrina\\\\Batch 5 training set\\\\salamsabrinafinal2971_162.json']},\n",
       " 'Stephanie': {'../Books\\\\Stephanie\\\\Batch 1 training set': ['../Books\\\\Stephanie\\\\Batch 1 training set\\\\Stephanie User 1433-2281.json'],\n",
       "  '../Books\\\\Stephanie\\\\Batch 13': ['../Books\\\\Stephanie\\\\Batch 13\\\\Stephanie User9 - User2993.json'],\n",
       "  '../Books\\\\Stephanie\\\\Batch 14': ['../Books\\\\Stephanie\\\\Batch 14\\\\Stephanie User213 - User1653.json',\n",
       "   '../Books\\\\Stephanie\\\\Batch 14\\\\Stephanie User213 - User2990.json'],\n",
       "  '../Books\\\\Stephanie\\\\Batch 15': ['../Books\\\\Stephanie\\\\Batch 15\\\\Stephanie User81 - User2971.json'],\n",
       "  '../Books\\\\Stephanie\\\\Batch 16': ['../Books\\\\Stephanie\\\\Batch 16\\\\Stephanie User42 - User 1311.json',\n",
       "   '../Books\\\\Stephanie\\\\Batch 16\\\\Stephanie User42 - User2730.json'],\n",
       "  '../Books\\\\Stephanie\\\\Batch 26': ['../Books\\\\Stephanie\\\\Batch 26\\\\Stephanie User50- User2992.json'],\n",
       "  '../Books\\\\Stephanie\\\\Batch 27': ['../Books\\\\Stephanie\\\\Batch 27\\\\Stephanie User37 - User1145.json',\n",
       "   '../Books\\\\Stephanie\\\\Batch 27\\\\Stephanie User37 - User2990 (1).json'],\n",
       "  '../Books\\\\Stephanie\\\\Batch 28': ['../Books\\\\Stephanie\\\\Batch 28\\\\Stephanie User76- User2962.json'],\n",
       "  '../Books\\\\Stephanie\\\\Batch 29': ['../Books\\\\Stephanie\\\\Batch 29\\\\Stephanie User21 - User2990.json'],\n",
       "  '../Books\\\\Stephanie\\\\Batch 2b training set': ['../Books\\\\Stephanie\\\\Batch 2b training set\\\\Stephanie User 4681 - 2180.json',\n",
       "   '../Books\\\\Stephanie\\\\Batch 2b training set\\\\Stephanie User 4681 - 2958 Updated (1).json',\n",
       "   '../Books\\\\Stephanie\\\\Batch 2b training set\\\\Stephanie User 4681 - 2958.json'],\n",
       "  '../Books\\\\Stephanie\\\\Batch 30': ['../Books\\\\Stephanie\\\\Batch 30\\\\Stephanie User11- User2992.json'],\n",
       "  '../Books\\\\Stephanie\\\\Batch 31': ['../Books\\\\Stephanie\\\\Batch 31\\\\Stephanie user21 - user1378.json',\n",
       "   '../Books\\\\Stephanie\\\\Batch 31\\\\Stephanie user21 - user2819.json'],\n",
       "  '../Books\\\\Stephanie\\\\Batch 36': ['../Books\\\\Stephanie\\\\Batch 36\\\\Stephanie User 21 - User2990.json'],\n",
       "  '../Books\\\\Stephanie\\\\Batch 3a training set': ['../Books\\\\Stephanie\\\\Batch 3a training set\\\\Stephanie User11 - User2980.json'],\n",
       "  '../Books\\\\Stephanie\\\\Batch 4a training set': ['../Books\\\\Stephanie\\\\Batch 4a training set\\\\Stephanie User50 - User 720.json',\n",
       "   '../Books\\\\Stephanie\\\\Batch 4a training set\\\\Stephanie User50 - User2237 (1).json',\n",
       "   '../Books\\\\Stephanie\\\\Batch 4a training set\\\\Stephanie User50 - User2999.json']}}"
      ]
     },
     "execution_count": 23,
     "metadata": {},
     "output_type": "execute_result"
    }
   ],
   "source": [
    "coded_json_files"
   ]
  },
  {
   "cell_type": "code",
   "execution_count": null,
   "metadata": {},
   "outputs": [],
   "source": [
    "# def concatenate_via_json_files(json_files: list) -> dict:\n",
    "#     json_data = []\n",
    "#     for json_file in json_files:\n",
    "#         with open(json_file, \"r\") as f:\n",
    "#             json_data.append(json.load(f))\n",
    "#     return json_data"
   ]
  }
 ],
 "metadata": {
  "kernelspec": {
   "display_name": "Python 3.9.12 ('base')",
   "language": "python",
   "name": "python3"
  },
  "language_info": {
   "codemirror_mode": {
    "name": "ipython",
    "version": 3
   },
   "file_extension": ".py",
   "mimetype": "text/x-python",
   "name": "python",
   "nbconvert_exporter": "python",
   "pygments_lexer": "ipython3",
   "version": "3.9.12"
  },
  "orig_nbformat": 4,
  "vscode": {
   "interpreter": {
    "hash": "58ed313190bb0b7e91dd2f9a464e3216ab686140ac15e04fa2e2836f55fda08a"
   }
  }
 },
 "nbformat": 4,
 "nbformat_minor": 2
}
