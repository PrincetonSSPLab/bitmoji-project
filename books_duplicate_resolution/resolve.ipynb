{
 "cells": [
  {
   "cell_type": "code",
   "execution_count": 8,
   "id": "initial_id",
   "metadata": {
    "collapsed": true,
    "ExecuteTime": {
     "end_time": "2023-10-01T10:30:50.698857Z",
     "start_time": "2023-10-01T10:30:50.485094600Z"
    }
   },
   "outputs": [],
   "source": [
    "import pandas as pd"
   ]
  },
  {
   "cell_type": "code",
   "execution_count": 9,
   "outputs": [],
   "source": [
    "books_resolved_duplicate_rows_path = r\"C:\\Users\\ethan_haque\\Downloads\\FINAL_duplicate_rows.csv\"\n",
    "books_full_dataset_path = r\"C:\\Users\\ethan_haque\\Desktop\\repos\\bitmoji-project\\books_report\\annotations.csv\""
   ],
   "metadata": {
    "collapsed": false,
    "ExecuteTime": {
     "end_time": "2023-10-01T10:30:50.701858Z",
     "start_time": "2023-10-01T10:30:50.516641Z"
    }
   },
   "id": "34fb16f648c097e6"
  },
  {
   "cell_type": "code",
   "execution_count": 10,
   "outputs": [
    {
     "name": "stdout",
     "output_type": "stream",
     "text": [
      "(223, 22)\n",
      "108\n"
     ]
    },
    {
     "data": {
      "text/plain": "                          image_id                     filename  \\\n0   user1029_4729_book_1_4.jpg4363   user1029_4729_book_1_4.jpg   \n1   user1029_4729_book_1_4.jpg4363   user1029_4729_book_1_4.jpg   \n2  user1038_1666_book_5_13.jpg7878  user1038_1666_book_5_13.jpg   \n3     user1038_1666_book_5_13.jpg0  user1038_1666_book_5_13.jpg   \n4  user1083_419_book_14_14.jpg6459  user1083_419_book_14_14.jpg   \n\n                                       title  \\\n0                                bugs a to z   \n1                                Bugs A to Z   \n2                                        NaN   \n3  The Legend of Spookley the Square Pumpkin   \n4              tangled a story about shapes    \n\n                                              google            ra  \\\n0  https://www.google.com/books/edition/Bugs_A_to...       Sabrina   \n1  https://www.google.com/books/edition/Bugs_A_to...  Nicole Stern   \n2                                                NaN      Michelle   \n3  https://www.google.com/books/edition/The_Legen...         Emily   \n4  https://www.google.com/books/edition/Tangled/t...      Michelle   \n\n                   batch                                        errors  KEEP  \\\n0  Batch 2b training set  Exactly one identifiable selection required.     0   \n1  Batch 2b training set                                           NaN     1   \n2  Batch 4a training set  Exactly one identifiable selection required.     0   \n3  Batch 4a training set                                           NaN     1   \n4  Batch 3a training set                                           NaN     0   \n\n   identifiable_yes  identifiable_no  ...  identifiable_different_language  \\\n0             False            False  ...                            False   \n1              True            False  ...                            False   \n2             False            False  ...                            False   \n3              True            False  ...                            False   \n4             False            False  ...                            False   \n\n   diversity_none  diversity_bipoc  diversity_noncisman  diversity_lgbq  \\\n0            True            False                False           False   \n1            True            False                False           False   \n2            True            False                False           False   \n3            True            False                False           False   \n4           False            False                 True           False   \n\n   diversity_non_christian  diversity_disability  diversity_other  \\\n0                    False                 False            False   \n1                    False                 False            False   \n2                    False                 False            False   \n3                    False                 False            False   \n4                    False                 False            False   \n\n   diversity_ambiguous                    TagID  \n0                False   user1029_4729_book_1_4  \n1                False   user1029_4729_book_1_4  \n2                False  user1038_1666_book_5_13  \n3                False  user1038_1666_book_5_13  \n4                False  user1083_419_book_14_14  \n\n[5 rows x 22 columns]",
      "text/html": "<div>\n<style scoped>\n    .dataframe tbody tr th:only-of-type {\n        vertical-align: middle;\n    }\n\n    .dataframe tbody tr th {\n        vertical-align: top;\n    }\n\n    .dataframe thead th {\n        text-align: right;\n    }\n</style>\n<table border=\"1\" class=\"dataframe\">\n  <thead>\n    <tr style=\"text-align: right;\">\n      <th></th>\n      <th>image_id</th>\n      <th>filename</th>\n      <th>title</th>\n      <th>google</th>\n      <th>ra</th>\n      <th>batch</th>\n      <th>errors</th>\n      <th>KEEP</th>\n      <th>identifiable_yes</th>\n      <th>identifiable_no</th>\n      <th>...</th>\n      <th>identifiable_different_language</th>\n      <th>diversity_none</th>\n      <th>diversity_bipoc</th>\n      <th>diversity_noncisman</th>\n      <th>diversity_lgbq</th>\n      <th>diversity_non_christian</th>\n      <th>diversity_disability</th>\n      <th>diversity_other</th>\n      <th>diversity_ambiguous</th>\n      <th>TagID</th>\n    </tr>\n  </thead>\n  <tbody>\n    <tr>\n      <th>0</th>\n      <td>user1029_4729_book_1_4.jpg4363</td>\n      <td>user1029_4729_book_1_4.jpg</td>\n      <td>bugs a to z</td>\n      <td>https://www.google.com/books/edition/Bugs_A_to...</td>\n      <td>Sabrina</td>\n      <td>Batch 2b training set</td>\n      <td>Exactly one identifiable selection required.</td>\n      <td>0</td>\n      <td>False</td>\n      <td>False</td>\n      <td>...</td>\n      <td>False</td>\n      <td>True</td>\n      <td>False</td>\n      <td>False</td>\n      <td>False</td>\n      <td>False</td>\n      <td>False</td>\n      <td>False</td>\n      <td>False</td>\n      <td>user1029_4729_book_1_4</td>\n    </tr>\n    <tr>\n      <th>1</th>\n      <td>user1029_4729_book_1_4.jpg4363</td>\n      <td>user1029_4729_book_1_4.jpg</td>\n      <td>Bugs A to Z</td>\n      <td>https://www.google.com/books/edition/Bugs_A_to...</td>\n      <td>Nicole Stern</td>\n      <td>Batch 2b training set</td>\n      <td>NaN</td>\n      <td>1</td>\n      <td>True</td>\n      <td>False</td>\n      <td>...</td>\n      <td>False</td>\n      <td>True</td>\n      <td>False</td>\n      <td>False</td>\n      <td>False</td>\n      <td>False</td>\n      <td>False</td>\n      <td>False</td>\n      <td>False</td>\n      <td>user1029_4729_book_1_4</td>\n    </tr>\n    <tr>\n      <th>2</th>\n      <td>user1038_1666_book_5_13.jpg7878</td>\n      <td>user1038_1666_book_5_13.jpg</td>\n      <td>NaN</td>\n      <td>NaN</td>\n      <td>Michelle</td>\n      <td>Batch 4a training set</td>\n      <td>Exactly one identifiable selection required.</td>\n      <td>0</td>\n      <td>False</td>\n      <td>False</td>\n      <td>...</td>\n      <td>False</td>\n      <td>True</td>\n      <td>False</td>\n      <td>False</td>\n      <td>False</td>\n      <td>False</td>\n      <td>False</td>\n      <td>False</td>\n      <td>False</td>\n      <td>user1038_1666_book_5_13</td>\n    </tr>\n    <tr>\n      <th>3</th>\n      <td>user1038_1666_book_5_13.jpg0</td>\n      <td>user1038_1666_book_5_13.jpg</td>\n      <td>The Legend of Spookley the Square Pumpkin</td>\n      <td>https://www.google.com/books/edition/The_Legen...</td>\n      <td>Emily</td>\n      <td>Batch 4a training set</td>\n      <td>NaN</td>\n      <td>1</td>\n      <td>True</td>\n      <td>False</td>\n      <td>...</td>\n      <td>False</td>\n      <td>True</td>\n      <td>False</td>\n      <td>False</td>\n      <td>False</td>\n      <td>False</td>\n      <td>False</td>\n      <td>False</td>\n      <td>False</td>\n      <td>user1038_1666_book_5_13</td>\n    </tr>\n    <tr>\n      <th>4</th>\n      <td>user1083_419_book_14_14.jpg6459</td>\n      <td>user1083_419_book_14_14.jpg</td>\n      <td>tangled a story about shapes</td>\n      <td>https://www.google.com/books/edition/Tangled/t...</td>\n      <td>Michelle</td>\n      <td>Batch 3a training set</td>\n      <td>NaN</td>\n      <td>0</td>\n      <td>False</td>\n      <td>False</td>\n      <td>...</td>\n      <td>False</td>\n      <td>False</td>\n      <td>False</td>\n      <td>True</td>\n      <td>False</td>\n      <td>False</td>\n      <td>False</td>\n      <td>False</td>\n      <td>False</td>\n      <td>user1083_419_book_14_14</td>\n    </tr>\n  </tbody>\n</table>\n<p>5 rows × 22 columns</p>\n</div>"
     },
     "execution_count": 10,
     "metadata": {},
     "output_type": "execute_result"
    }
   ],
   "source": [
    "books_duplicate_rows_df = pd.read_csv(books_resolved_duplicate_rows_path)\n",
    "print(books_duplicate_rows_df.shape)\n",
    "print(books_duplicate_rows_df[\"filename\"].nunique())\n",
    "books_duplicate_rows_df.head()"
   ],
   "metadata": {
    "collapsed": false,
    "ExecuteTime": {
     "end_time": "2023-10-01T10:30:50.702828800Z",
     "start_time": "2023-10-01T10:30:50.550979Z"
    }
   },
   "id": "662107047bfe4f22"
  },
  {
   "cell_type": "code",
   "execution_count": 11,
   "outputs": [
    {
     "name": "stdout",
     "output_type": "stream",
     "text": [
      "(3688, 21)\n",
      "3573\n"
     ]
    },
    {
     "data": {
      "text/plain": "                          image_id                     filename  \\\n0   user1980_3831_book_4_4.jpg5196   user1980_3831_book_4_4.jpg   \n1     user2180_23_book_7_8.jpg3815     user2180_23_book_7_8.jpg   \n2   user2180_23_book_18_19.jpg3094   user2180_23_book_18_19.jpg   \n3  user2281_2010_book_5_15.jpg5167  user2281_2010_book_5_15.jpg   \n4      user9_4519_book_3_3.jpg6914      user9_4519_book_3_3.jpg   \n\n                                          title  \\\n0                                The Henna Wars   \n1                   ur favorite day of the year   \n2                          Latke, the Lucky Dog   \n3        baditude: what to do when life stinks!   \n4  Insignificant Events in the Life of a Cactus   \n\n                                              google     ra  \\\n0  https://www.google.com/books/edition/The_Henna...  Emily   \n1  https://www.google.com/books/edition/Our_Favor...  Emily   \n2  https://www.google.com/books/edition/Latke_the...  Emily   \n3  https://www.google.com/books/edition/Baditude_...  Emily   \n4  https://www.google.com/books/edition/Insignifi...  Emily   \n\n                  batch errors  identifiable_yes  identifiable_no  \\\n0  Batch 1 training set    NaN             False            False   \n1  Batch 1 training set    NaN              True            False   \n2  Batch 1 training set    NaN              True            False   \n3  Batch 1 training set    NaN             False            False   \n4              Batch 10    NaN              True            False   \n\n   identifiable_with_info_sidebar  ...  identifiable_different_language  \\\n0                           False  ...                            False   \n1                           False  ...                            False   \n2                           False  ...                            False   \n3                           False  ...                            False   \n4                           False  ...                            False   \n\n   diversity_none  diversity_bipoc  diversity_noncisman  diversity_lgbq  \\\n0           False             True                 True            True   \n1           False             True                 True           False   \n2           False            False                False           False   \n3           False             True                False           False   \n4            True            False                False           False   \n\n   diversity_non_christian  diversity_disability  diversity_other  \\\n0                    False                 False            False   \n1                    False                 False            False   \n2                    False                 False            False   \n3                    False                 False            False   \n4                    False                 False            False   \n\n   diversity_ambiguous                    TagID  \n0                False   user1980_3831_book_4_4  \n1                False     user2180_23_book_7_8  \n2                 True   user2180_23_book_18_19  \n3                False  user2281_2010_book_5_15  \n4                False      user9_4519_book_3_3  \n\n[5 rows x 21 columns]",
      "text/html": "<div>\n<style scoped>\n    .dataframe tbody tr th:only-of-type {\n        vertical-align: middle;\n    }\n\n    .dataframe tbody tr th {\n        vertical-align: top;\n    }\n\n    .dataframe thead th {\n        text-align: right;\n    }\n</style>\n<table border=\"1\" class=\"dataframe\">\n  <thead>\n    <tr style=\"text-align: right;\">\n      <th></th>\n      <th>image_id</th>\n      <th>filename</th>\n      <th>title</th>\n      <th>google</th>\n      <th>ra</th>\n      <th>batch</th>\n      <th>errors</th>\n      <th>identifiable_yes</th>\n      <th>identifiable_no</th>\n      <th>identifiable_with_info_sidebar</th>\n      <th>...</th>\n      <th>identifiable_different_language</th>\n      <th>diversity_none</th>\n      <th>diversity_bipoc</th>\n      <th>diversity_noncisman</th>\n      <th>diversity_lgbq</th>\n      <th>diversity_non_christian</th>\n      <th>diversity_disability</th>\n      <th>diversity_other</th>\n      <th>diversity_ambiguous</th>\n      <th>TagID</th>\n    </tr>\n  </thead>\n  <tbody>\n    <tr>\n      <th>0</th>\n      <td>user1980_3831_book_4_4.jpg5196</td>\n      <td>user1980_3831_book_4_4.jpg</td>\n      <td>The Henna Wars</td>\n      <td>https://www.google.com/books/edition/The_Henna...</td>\n      <td>Emily</td>\n      <td>Batch 1 training set</td>\n      <td>NaN</td>\n      <td>False</td>\n      <td>False</td>\n      <td>False</td>\n      <td>...</td>\n      <td>False</td>\n      <td>False</td>\n      <td>True</td>\n      <td>True</td>\n      <td>True</td>\n      <td>False</td>\n      <td>False</td>\n      <td>False</td>\n      <td>False</td>\n      <td>user1980_3831_book_4_4</td>\n    </tr>\n    <tr>\n      <th>1</th>\n      <td>user2180_23_book_7_8.jpg3815</td>\n      <td>user2180_23_book_7_8.jpg</td>\n      <td>ur favorite day of the year</td>\n      <td>https://www.google.com/books/edition/Our_Favor...</td>\n      <td>Emily</td>\n      <td>Batch 1 training set</td>\n      <td>NaN</td>\n      <td>True</td>\n      <td>False</td>\n      <td>False</td>\n      <td>...</td>\n      <td>False</td>\n      <td>False</td>\n      <td>True</td>\n      <td>True</td>\n      <td>False</td>\n      <td>False</td>\n      <td>False</td>\n      <td>False</td>\n      <td>False</td>\n      <td>user2180_23_book_7_8</td>\n    </tr>\n    <tr>\n      <th>2</th>\n      <td>user2180_23_book_18_19.jpg3094</td>\n      <td>user2180_23_book_18_19.jpg</td>\n      <td>Latke, the Lucky Dog</td>\n      <td>https://www.google.com/books/edition/Latke_the...</td>\n      <td>Emily</td>\n      <td>Batch 1 training set</td>\n      <td>NaN</td>\n      <td>True</td>\n      <td>False</td>\n      <td>False</td>\n      <td>...</td>\n      <td>False</td>\n      <td>False</td>\n      <td>False</td>\n      <td>False</td>\n      <td>False</td>\n      <td>False</td>\n      <td>False</td>\n      <td>False</td>\n      <td>True</td>\n      <td>user2180_23_book_18_19</td>\n    </tr>\n    <tr>\n      <th>3</th>\n      <td>user2281_2010_book_5_15.jpg5167</td>\n      <td>user2281_2010_book_5_15.jpg</td>\n      <td>baditude: what to do when life stinks!</td>\n      <td>https://www.google.com/books/edition/Baditude_...</td>\n      <td>Emily</td>\n      <td>Batch 1 training set</td>\n      <td>NaN</td>\n      <td>False</td>\n      <td>False</td>\n      <td>False</td>\n      <td>...</td>\n      <td>False</td>\n      <td>False</td>\n      <td>True</td>\n      <td>False</td>\n      <td>False</td>\n      <td>False</td>\n      <td>False</td>\n      <td>False</td>\n      <td>False</td>\n      <td>user2281_2010_book_5_15</td>\n    </tr>\n    <tr>\n      <th>4</th>\n      <td>user9_4519_book_3_3.jpg6914</td>\n      <td>user9_4519_book_3_3.jpg</td>\n      <td>Insignificant Events in the Life of a Cactus</td>\n      <td>https://www.google.com/books/edition/Insignifi...</td>\n      <td>Emily</td>\n      <td>Batch 10</td>\n      <td>NaN</td>\n      <td>True</td>\n      <td>False</td>\n      <td>False</td>\n      <td>...</td>\n      <td>False</td>\n      <td>True</td>\n      <td>False</td>\n      <td>False</td>\n      <td>False</td>\n      <td>False</td>\n      <td>False</td>\n      <td>False</td>\n      <td>False</td>\n      <td>user9_4519_book_3_3</td>\n    </tr>\n  </tbody>\n</table>\n<p>5 rows × 21 columns</p>\n</div>"
     },
     "execution_count": 11,
     "metadata": {},
     "output_type": "execute_result"
    }
   ],
   "source": [
    "books_full_rows_df = pd.read_csv(books_full_dataset_path)\n",
    "print(books_full_rows_df.shape)\n",
    "print(books_full_rows_df[\"filename\"].nunique())\n",
    "books_full_rows_df.head()"
   ],
   "metadata": {
    "collapsed": false,
    "ExecuteTime": {
     "end_time": "2023-10-01T10:30:50.806065200Z",
     "start_time": "2023-10-01T10:30:50.646461300Z"
    }
   },
   "id": "812e5c1f7793808d"
  },
  {
   "cell_type": "code",
   "execution_count": 12,
   "outputs": [
    {
     "data": {
      "text/plain": "(3573, 3573)"
     },
     "execution_count": 12,
     "metadata": {},
     "output_type": "execute_result"
    }
   ],
   "source": [
    "rows_to_remove = books_duplicate_rows_df[books_duplicate_rows_df['KEEP'] == False]\n",
    "\n",
    "keys = [\"image_id\", \"filename\", \"title\", \"google\", \"ra\", \"batch\"]\n",
    "cleaned_books_df = pd.merge(books_full_rows_df, rows_to_remove[keys], \n",
    "                            on=keys, \n",
    "                            how='outer', \n",
    "                            indicator=True).query('_merge == \"left_only\"').drop(columns='_merge')\n",
    "\n",
    "remaining_unique_filenames = cleaned_books_df[\"filename\"].nunique()\n",
    "remaining_unique_filenames, cleaned_books_df.shape[0]\n"
   ],
   "metadata": {
    "collapsed": false,
    "ExecuteTime": {
     "end_time": "2023-10-01T10:30:50.952603700Z",
     "start_time": "2023-10-01T10:30:50.760260500Z"
    }
   },
   "id": "2fe08c19d172be91"
  },
  {
   "cell_type": "code",
   "execution_count": 13,
   "outputs": [],
   "source": [
    "# convert all bool columns to int\n",
    "bool_cols = [col for col in cleaned_books_df if cleaned_books_df[col].dtype == \"bool\"]\n",
    "cleaned_books_df[bool_cols] = cleaned_books_df[bool_cols].astype(int)"
   ],
   "metadata": {
    "collapsed": false,
    "ExecuteTime": {
     "end_time": "2023-10-01T10:30:50.954610100Z",
     "start_time": "2023-10-01T10:30:50.797224600Z"
    }
   },
   "id": "8f9ddf1a1480b5a6"
  },
  {
   "cell_type": "code",
   "execution_count": 14,
   "outputs": [],
   "source": [
    "cleaned_books_df.to_csv(r\"C:\\Users\\ethan_haque\\Desktop\\repos\\bitmoji-project\\books_duplicate_resolution\\annotations_cleaned.csv\", index=False)"
   ],
   "metadata": {
    "collapsed": false,
    "ExecuteTime": {
     "end_time": "2023-10-01T10:30:51.070449700Z",
     "start_time": "2023-10-01T10:30:50.828618300Z"
    }
   },
   "id": "e916c21da905ba56"
  }
 ],
 "metadata": {
  "kernelspec": {
   "display_name": "Python 3",
   "language": "python",
   "name": "python3"
  },
  "language_info": {
   "codemirror_mode": {
    "name": "ipython",
    "version": 2
   },
   "file_extension": ".py",
   "mimetype": "text/x-python",
   "name": "python",
   "nbconvert_exporter": "python",
   "pygments_lexer": "ipython2",
   "version": "2.7.6"
  }
 },
 "nbformat": 4,
 "nbformat_minor": 5
}
